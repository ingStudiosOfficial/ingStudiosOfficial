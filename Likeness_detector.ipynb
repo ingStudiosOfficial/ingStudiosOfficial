{
  "nbformat": 4,
  "nbformat_minor": 0,
  "metadata": {
    "colab": {
      "provenance": [],
      "authorship_tag": "ABX9TyP+Rl47w144u6s9j821XRUV",
      "include_colab_link": true
    },
    "kernelspec": {
      "name": "python3",
      "display_name": "Python 3"
    },
    "language_info": {
      "name": "python"
    }
  },
  "cells": [
    {
      "cell_type": "markdown",
      "metadata": {
        "id": "view-in-github",
        "colab_type": "text"
      },
      "source": [
        "<a href=\"https://colab.research.google.com/github/ingStudiosOfficial/ingStudiosOfficial/blob/main/Likeness_detector.ipynb\" target=\"_parent\"><img src=\"https://colab.research.google.com/assets/colab-badge.svg\" alt=\"Open In Colab\"/></a>"
      ]
    },
    {
      "source": [
        "import random\n",
        "print(\"See how much someone likes you!\")\n",
        "username = input(prompt=\"Your name: \")\n",
        "ousername = input(prompt=\"Your pair's name: \")\n",
        "chance = str(random.randint(0, 100))\n",
        "print(str(ousername)+\" likes \"+str(username)+\" about \"+chance+\"%.\")\n",
        "print(\"This is a fictional and randomly generated guess. This is not a reliable source of information.\")"
      ],
      "cell_type": "code",
      "metadata": {
        "colab": {
          "base_uri": "https://localhost:8080/"
        },
        "id": "tV5A-J_binEY",
        "outputId": "8012fc40-401a-4077-debc-16b634e4785c"
      },
      "execution_count": 22,
      "outputs": [
        {
          "output_type": "stream",
          "name": "stdout",
          "text": [
            "See how much someone likes you!\n",
            "Your name: Ethan\n",
            "Your pair's name: Amberlin\n",
            "Amberlin likes Ethan about 99%.\n",
            "This is a fictional and randomly generated guess. This is not a reliable source of information.\n"
          ]
        }
      ]
    }
  ]
}